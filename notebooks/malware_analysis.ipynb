
{
 "cells": [
  {
   "cell_type": "code",
   "execution_count": null,
   "metadata": {},
   "outputs": [],
   "source": [
    "import pandas as pd\n",
    "df = pd.DataFrame({\"file\": [\"payload1.exe\", \"payload2.exe\"], \"entropy\": [7.9, 6.4]})\n",
    "df.plot(kind='bar', x='file', y='entropy')"
   ]
  }
 ],
 "metadata": {},
 "nbformat": 4,
 "nbformat_minor": 2
}
